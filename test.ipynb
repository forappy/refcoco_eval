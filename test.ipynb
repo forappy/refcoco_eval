{
 "cells": [
  {
   "cell_type": "code",
   "execution_count": 47,
   "metadata": {},
   "outputs": [
    {
     "name": "stdout",
     "output_type": "stream",
     "text": [
      "[0.032, 0.444, 0.234, 0.844]\n",
      "0.844\n"
     ]
    },
    {
     "ename": "TypeError",
     "evalue": "float() argument must be a string or a real number, not 'NoneType'",
     "output_type": "error",
     "traceback": [
      "\u001b[0;31m---------------------------------------------------------------------------\u001b[0m",
      "\u001b[0;31mTypeError\u001b[0m                                 Traceback (most recent call last)",
      "Cell \u001b[0;32mIn[47], line 22\u001b[0m\n\u001b[1;32m     20\u001b[0m         \u001b[38;5;28;01mreturn\u001b[39;00m \u001b[38;5;28;01mNone\u001b[39;00m\n\u001b[1;32m     21\u001b[0m rs \u001b[38;5;241m=\u001b[39m \u001b[38;5;124m\"\u001b[39m\u001b[38;5;124mThe object mentioned in the expression is the person at the bottom left of the image. The bounding box coordinates of this person are:[0.032,0.444,0.234,0.844]<|eot_id|>\u001b[39m\u001b[38;5;124m\"\u001b[39m\n\u001b[0;32m---> 22\u001b[0m predicted_bbox \u001b[38;5;241m=\u001b[39m \u001b[43mextract_bbox_from_text\u001b[49m\u001b[43m(\u001b[49m\u001b[43mrs\u001b[49m\u001b[43m)\u001b[49m\n",
      "Cell \u001b[0;32mIn[47], line 15\u001b[0m, in \u001b[0;36mextract_bbox_from_text\u001b[0;34m(result_text)\u001b[0m\n\u001b[1;32m     12\u001b[0m \u001b[38;5;28mprint\u001b[39m(match\u001b[38;5;241m.\u001b[39mgroup(\u001b[38;5;241m10\u001b[39m))\n\u001b[1;32m     13\u001b[0m \u001b[38;5;28;01mif\u001b[39;00m match:\n\u001b[0;32m---> 15\u001b[0m     bbox \u001b[38;5;241m=\u001b[39m [\u001b[38;5;28mfloat\u001b[39m(match\u001b[38;5;241m.\u001b[39mgroup(i)) \u001b[38;5;28;01mfor\u001b[39;00m i \u001b[38;5;129;01min\u001b[39;00m \u001b[38;5;28mrange\u001b[39m(\u001b[38;5;241m1\u001b[39m, \u001b[38;5;241m9\u001b[39m, \u001b[38;5;241m2\u001b[39m)]\n\u001b[1;32m     16\u001b[0m     \u001b[38;5;28;01mreturn\u001b[39;00m bbox\n\u001b[1;32m     17\u001b[0m \u001b[38;5;28;01melse\u001b[39;00m:\n\u001b[1;32m     18\u001b[0m     \u001b[38;5;66;03m# 如果未找到匹配的边界框\u001b[39;00m\n",
      "Cell \u001b[0;32mIn[47], line 15\u001b[0m, in \u001b[0;36m<listcomp>\u001b[0;34m(.0)\u001b[0m\n\u001b[1;32m     12\u001b[0m \u001b[38;5;28mprint\u001b[39m(match\u001b[38;5;241m.\u001b[39mgroup(\u001b[38;5;241m10\u001b[39m))\n\u001b[1;32m     13\u001b[0m \u001b[38;5;28;01mif\u001b[39;00m match:\n\u001b[0;32m---> 15\u001b[0m     bbox \u001b[38;5;241m=\u001b[39m [\u001b[38;5;28;43mfloat\u001b[39;49m\u001b[43m(\u001b[49m\u001b[43mmatch\u001b[49m\u001b[38;5;241;43m.\u001b[39;49m\u001b[43mgroup\u001b[49m\u001b[43m(\u001b[49m\u001b[43mi\u001b[49m\u001b[43m)\u001b[49m\u001b[43m)\u001b[49m \u001b[38;5;28;01mfor\u001b[39;00m i \u001b[38;5;129;01min\u001b[39;00m \u001b[38;5;28mrange\u001b[39m(\u001b[38;5;241m1\u001b[39m, \u001b[38;5;241m9\u001b[39m, \u001b[38;5;241m2\u001b[39m)]\n\u001b[1;32m     16\u001b[0m     \u001b[38;5;28;01mreturn\u001b[39;00m bbox\n\u001b[1;32m     17\u001b[0m \u001b[38;5;28;01melse\u001b[39;00m:\n\u001b[1;32m     18\u001b[0m     \u001b[38;5;66;03m# 如果未找到匹配的边界框\u001b[39;00m\n",
      "\u001b[0;31mTypeError\u001b[0m: float() argument must be a string or a real number, not 'NoneType'"
     ]
    }
   ],
   "source": [
    "import re\n",
    "def extract_bbox_from_text(result_text):\n",
    "    \"\"\"\n",
    "    从生成的文本中提取预测的边界框\n",
    "    :param result_text: 生成的文本，其中包含边界框信息\n",
    "    :return: 提取出的边界框，格式为 [xmin, ymin, xmax, ymax]，或空列表如果未找到\n",
    "    \"\"\"\n",
    "    # 定义正则表达式模式以匹配边界框\n",
    "    pattern = r\"\\[\\s*(0(\\.\\d+)?|1(\\.0+)?)\\s*,\\s*(0(\\.\\d+)?|1(\\.0+)?)\\s*,\\s*(0(\\.\\d+)?|1(\\.0+)?)\\s*,\\s*(0(\\.\\d+)?|1(\\.0+)?)\\s*\\]\"\n",
    "    match = re.search(pattern, result_text)\n",
    "    print([float(match.group(i)) for i in range(1, 11, 3)])\n",
    "    print(match.group(10))\n",
    "    if match:\n",
    "\n",
    "        bbox = [float(match.group(i)) for i in range(1, 9, 2)]\n",
    "        return bbox\n",
    "    else:\n",
    "        # 如果未找到匹配的边界框\n",
    "        print(\"No bbox found in text\")\n",
    "        return None\n",
    "rs = \"The object mentioned in the expression is the person at the bottom left of the image. The bounding box coordinates of this person are:[0.032,0.444,0.234,0.844]<|eot_id|>\"\n",
    "predicted_bbox = extract_bbox_from_text(rs)"
   ]
  },
  {
   "cell_type": "code",
   "execution_count": null,
   "metadata": {},
   "outputs": [],
   "source": [
    "\n",
    "def normalize_bbox(self, bbox, w, h):\n",
    "    # 计算左上和右下坐标\n",
    "    x, y, width, height = bbox\n",
    "    xmin = x\n",
    "    ymin = y\n",
    "    xmax = x + width\n",
    "    ymax = y + height\n",
    "\n",
    "    # 归一化\n",
    "    xmin_norm = xmin / w\n",
    "    ymin_norm = ymin / h\n",
    "    xmax_norm = xmax / w\n",
    "    ymax_norm = ymax / h\n",
    "\n",
    "    return [xmin_norm, ymin_norm, xmax_norm, ymax_norm]\n"
   ]
  },
  {
   "cell_type": "code",
   "execution_count": 1,
   "metadata": {},
   "outputs": [
    {
     "name": "stdout",
     "output_type": "stream",
     "text": [
      "Batch 0 - True BBox: tensor([0.0050, 0.3320, 0.2490, 0.9840])\n",
      "torch.Size([2, 4])\n"
     ]
    }
   ],
   "source": [
    "# 将合并后的 DataFrame 传递给 RefDataset\n",
    "from refdataset import RefDataset, IoUEvaluator\n",
    "\n",
    "import torch\n",
    "from torch.utils.data import DataLoader\n",
    "path = '/mnt/pfs-mc0p4k/nlu/team/yuhaofu/eval/refcoco/refer/data/refcoco/testA-00000-of-00001.parquet'\n",
    "dataset = RefDataset(path)\n",
    "data_loader = DataLoader(dataset, batch_size=2, shuffle=False)\n",
    "# Print entire batch structure\n",
    "for index, batch in enumerate(data_loader):\n",
    "    annotations, images, true_bboxes, image_paths = batch\n",
    "    for image, annotation, true_bbox, image_path in zip(images, annotations, true_bboxes, image_paths):\n",
    "        print(f\"Batch {index} - True BBox: {true_bbox}\")\n",
    "        print(true_bboxes.shape)\n",
    "        break  # 只打印第一项，以检查结构\n",
    "    break  # 只分析第一个batch"
   ]
  }
 ],
 "metadata": {
  "kernelspec": {
   "display_name": "llama-cookbook",
   "language": "python",
   "name": "python3"
  },
  "language_info": {
   "codemirror_mode": {
    "name": "ipython",
    "version": 3
   },
   "file_extension": ".py",
   "mimetype": "text/x-python",
   "name": "python",
   "nbconvert_exporter": "python",
   "pygments_lexer": "ipython3",
   "version": "3.10.16"
  }
 },
 "nbformat": 4,
 "nbformat_minor": 2
}
